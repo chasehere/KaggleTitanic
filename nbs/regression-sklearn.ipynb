{
 "cells": [
  {
   "cell_type": "markdown",
   "metadata": {},
   "source": [
    "# Logistic Regression Using Sklearn (81% valid acc, 75% leaderboard)"
   ]
  },
  {
   "cell_type": "code",
   "execution_count": 162,
   "metadata": {},
   "outputs": [],
   "source": [
    "import numpy as np\n",
    "import pandas as pd\n",
    "%matplotlib inline"
   ]
  },
  {
   "cell_type": "markdown",
   "metadata": {},
   "source": [
    "## Data"
   ]
  },
  {
   "cell_type": "code",
   "execution_count": 80,
   "metadata": {},
   "outputs": [],
   "source": [
    "# load\n",
    "train = pd.read_csv('../data/train.csv')\n",
    "test = pd.read_csv('../data/test.csv')"
   ]
  },
  {
   "cell_type": "code",
   "execution_count": 100,
   "metadata": {},
   "outputs": [],
   "source": [
    "# remember passenger ids\n",
    "train_idx = train.PassengerId\n",
    "test_idx = test.PassengerId"
   ]
  },
  {
   "cell_type": "code",
   "execution_count": 101,
   "metadata": {},
   "outputs": [],
   "source": [
    "# create features\n",
    "df = train.append(test)\n",
    "cat_cols = ['Pclass', 'Sex', 'Embarked']\n",
    "df = pd.get_dummies(df, prefix=[x + '_' for x in cat_cols], columns=cat_cols)\n",
    "df['Age'] = df['Age'] / 85.\n",
    "df['Fare'] = np.log(df['Fare'] + 10.0)\n",
    "df['cabin_feature'] = [str(x)[0] for x in list(df.Cabin)]\n",
    "df = pd.get_dummies(df, prefix='cabin_', columns=['cabin_feature'])\n",
    "df['SibSp'] = df['SibSp'] / 9.\n",
    "df['Parch'] = df['Parch'] / 9.\n",
    "df = df.drop(columns=['Name', 'Ticket', 'Cabin'])\n",
    "df = df.apply(lambda x: x.fillna(x.mean()),axis=0)"
   ]
  },
  {
   "cell_type": "code",
   "execution_count": 102,
   "metadata": {},
   "outputs": [],
   "source": [
    "# split into train and test sets\n",
    "train_features = df.loc[df.PassengerId.isin(train_idx),]\n",
    "test_features = df.loc[df.PassengerId.isin(test_idx),]"
   ]
  },
  {
   "cell_type": "code",
   "execution_count": 106,
   "metadata": {},
   "outputs": [],
   "source": [
    "from sklearn.model_selection import train_test_split"
   ]
  },
  {
   "cell_type": "code",
   "execution_count": 112,
   "metadata": {},
   "outputs": [],
   "source": [
    "# create validation set from train\n",
    "X = train_features.drop(columns=['PassengerId', 'Survived'])\n",
    "y = train_features.Survived\n",
    "X_train, X_val, y_train, y_val = train_test_split(X, y, test_size=.3, random_state=69)\n",
    "X_test = test_features.drop(columns=['PassengerId', 'Survived'])"
   ]
  },
  {
   "cell_type": "markdown",
   "metadata": {},
   "source": [
    "## Model"
   ]
  },
  {
   "cell_type": "code",
   "execution_count": 109,
   "metadata": {},
   "outputs": [],
   "source": [
    "from sklearn import linear_model"
   ]
  },
  {
   "cell_type": "code",
   "execution_count": 113,
   "metadata": {},
   "outputs": [
    {
     "data": {
      "text/plain": [
       "LogisticRegression(C=1.0, class_weight=None, dual=False, fit_intercept=True,\n",
       "          intercept_scaling=1, max_iter=100, multi_class='ovr', n_jobs=1,\n",
       "          penalty='l2', random_state=None, solver='liblinear', tol=0.0001,\n",
       "          verbose=0, warm_start=False)"
      ]
     },
     "execution_count": 113,
     "metadata": {},
     "output_type": "execute_result"
    }
   ],
   "source": [
    "# a simple linear regression\n",
    "model = linear_model.LogisticRegression()\n",
    "model.fit(X_train, y_train)"
   ]
  },
  {
   "cell_type": "code",
   "execution_count": 143,
   "metadata": {},
   "outputs": [],
   "source": [
    "train_pred = model.predict(X_train)\n",
    "val_pred = model.predict(X_val)\n",
    "test_pred = model.predict(X_test)\n",
    "\n",
    "train_pred2 = model.predict_proba(X_train)\n",
    "val_pred2 = model.predict_proba(X_val)\n",
    "test_pred2 = model.predict_proba(X_test)"
   ]
  },
  {
   "cell_type": "markdown",
   "metadata": {},
   "source": [
    "## Scoring"
   ]
  },
  {
   "cell_type": "code",
   "execution_count": 145,
   "metadata": {},
   "outputs": [],
   "source": [
    "from sklearn.metrics import accuracy_score, log_loss"
   ]
  },
  {
   "cell_type": "code",
   "execution_count": 146,
   "metadata": {},
   "outputs": [
    {
     "name": "stdout",
     "output_type": "stream",
     "text": [
      "Train acc: 0.817, Valid acc: 0.817\n"
     ]
    }
   ],
   "source": [
    "# accuracy score\n",
    "train_score = accuracy_score(y_train, train_pred)\n",
    "val_score = accuracy_score(y_val, val_pred)\n",
    "print('Train acc: {:.3f}, Valid acc: {:.3f}'.format(train_score, val_score))"
   ]
  },
  {
   "cell_type": "code",
   "execution_count": 161,
   "metadata": {},
   "outputs": [
    {
     "name": "stdout",
     "output_type": "stream",
     "text": [
      "Train loss: 0.439, Valid loss: 0.427\n"
     ]
    }
   ],
   "source": [
    "# log loss\n",
    "train_score = log_loss(y_train, train_pred2[:,1])\n",
    "val_score = log_loss(y_val, val_pred2[:,1])\n",
    "print('Train loss: {:.3f}, Valid loss: {:.3f}'.format(train_score, val_score))"
   ]
  },
  {
   "cell_type": "markdown",
   "metadata": {},
   "source": [
    "## Submission"
   ]
  },
  {
   "cell_type": "code",
   "execution_count": 142,
   "metadata": {},
   "outputs": [
    {
     "data": {
      "text/html": [
       "<a href='../submissions/sklearn_logreg1.csv' target='_blank'>../submissions/sklearn_logreg1.csv</a><br>"
      ],
      "text/plain": [
       "/home/chase/Repos/KaggleTitanic/submissions/sklearn_logreg1.csv"
      ]
     },
     "execution_count": 142,
     "metadata": {},
     "output_type": "execute_result"
    }
   ],
   "source": [
    "from IPython.display import FileLink\n",
    "sub_path = \"../submissions/sklearn_logreg1.csv\"\n",
    "submission = pd.DataFrame.from_dict({'PassengerId': test_idx, 'Survived': test_pred.astype(int)})\n",
    "submission.to_csv(sub_path,index=False)\n",
    "FileLink(sub_path)"
   ]
  },
  {
   "cell_type": "markdown",
   "metadata": {},
   "source": [
    "Leaderboard score of .75"
   ]
  }
 ],
 "metadata": {
  "kernelspec": {
   "display_name": "Python [conda env:fastai]",
   "language": "python",
   "name": "conda-env-fastai-py"
  },
  "language_info": {
   "codemirror_mode": {
    "name": "ipython",
    "version": 3
   },
   "file_extension": ".py",
   "mimetype": "text/x-python",
   "name": "python",
   "nbconvert_exporter": "python",
   "pygments_lexer": "ipython3",
   "version": "3.6.4"
  }
 },
 "nbformat": 4,
 "nbformat_minor": 2
}
